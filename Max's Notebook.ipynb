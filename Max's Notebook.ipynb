{
 "cells": [
  {
   "cell_type": "markdown",
   "id": "ac424fa0-a877-4c5b-a937-9e10d3ddfbe3",
   "metadata": {},
   "source": [
    "https://data.wprdc.org/dataset/allegheny-county-911-dispatches-ems-and-fire/resource/ff33ca18-2e0c-4cb5-bdcd-60a5dc3c0418"
   ]
  },
  {
   "cell_type": "code",
   "execution_count": 251,
   "id": "a19b6a03-9665-412f-a135-5973e128544a",
   "metadata": {},
   "outputs": [
    {
     "name": "stdout",
     "output_type": "stream",
     "text": [
      "{'PITTSBURGH': 2050875, 'PENN HILLS': 233467, 'MCKEESPORT': 198206, 'WILKINSBURG': 150719, 'ROSS': 147149, 'MOUNT LEBANON': 136458, 'MCCANDLESS': 125252, 'WEST MIFFLIN': 119436, 'BALDWIN BORO': 106870, 'SCOTT': 96758, 'PLUM': 87822, 'SHALER': 82886, 'ROBINSON': 81515, 'WHITEHALL': 76407, 'MCKEES ROCKS': 71757, 'SOUTH FAYETTE': 71138, 'NORTH VERSAILLES': 71054, 'MUNHALL': 69941, 'MOON': 68288, 'NORTH FAYETTE': 61109, 'CLAIRTON': 60800, 'HARRISON': 58184, 'STOWE': 53933, 'SWISSVALE': 53262, 'ELIZABETH TOWNSHIP': 53116, 'DUQUESNE': 53112, 'BRENTWOOD': 52454, 'PLEASANT HILLS': 52235, 'HAMPTON': 51264, 'JEFFERSON HILLS': 49671, 'HOMESTEAD': 49114, 'BELLEVUE': 46278, 'CARNEGIE': 46246, \"O'HARA\": 45880, 'WEST DEER': 45334, 'NORTH BRADDOCK': 43540, 'KENNEDY': 42944, 'FINDLAY': 41983, 'RICHLAND': 41701, 'TURTLE CREEK': 41131, 'WHITE OAK': 40454, 'OAKMONT': 38084, 'COLLIER': 36447, 'CASTLE SHANNON': 35854, 'WILKINS': 35683, 'HARMAR': 35277, 'TARENTUM': 35219, 'PINE': 34809, 'BRADDOCK': 31901, 'INDIANA': 31891, 'GLASSPORT': 31721, 'FRANKLIN PARK': 31382, 'AVALON': 30878, 'DORMONT': 30036, 'MOUNT OLIVER': 28809, 'CRAFTON': 27805, 'SHARPSBURG': 27719, 'BRIDGEVILLE': 27629, 'FOREST HILLS': 27443, 'WEST VIEW': 26148, 'GREEN TREE': 25439, 'MARSHALL': 24219, 'MILLVALE': 23817, 'BRACKENRIDGE': 23760, 'EAST PITTSBURGH': 23616, 'CORAOPOLIS': 20949, 'ETNA': 20032, 'RANKIN': 19449, 'WILMERDING': 18721, 'BRADDOCK HILLS': 18119, 'OHIO': 17828, 'SPRINGDALE BORO': 17164, 'WEST HOMESTEAD': 16904, 'PORT VUE': 15692, 'VERONA': 15656, 'CHURCHILL': 15293, 'BETHEL PARK': 14578, 'SEWICKLEY': 14104, 'FORWARD': 13384, 'INGRAM': 12857, 'EDGEWOOD': 12482, 'VERSAILLES': 11863, 'DRAVOSBURG': 11094, 'EAST MCKEESPORT': 10632, 'MONROEVILLE': 10220, 'RESERVE': 9819, 'ALEPPO': 9761, 'FOX CHAPEL': 9583, 'FRAZER': 9124, 'BLAWNOX': 8857, 'ELIZABETH BORO': 8828, 'LIBERTY': 8203, 'EAST DEER': 8023, 'ASPINWALL': 7607, 'SPRINGDALE TOWNSHIP': 7552, 'PITCAIRN': 7519, 'FAWN': 7378, 'EMSWORTH': 7332, 'WHITAKER': 7138, 'CHESWICK': 6981, 'NEVILLE': 6517, 'LEET': 6366, 'BALDWIN TOWNSHIP': 6201, 'HEIDELBERG': 6044, 'LEETSDALE': 6006, 'UPPER ST CLAIR': 5158, 'CRESCENT': 4804, 'LINCOLN': 4696, 'OAKDALE': 4694, 'SOUTH PARK': 4570, 'BEN AVON': 4054, 'EDGEWORTH': 3747, 'CHALFANT': 3742, 'WALL': 3042, 'WEST ELIZABETH': 2834, 'BRADFORD WOODS': 2511, 'BELL ACRES': 2231, 'KILBUCK': 2125, 'GLEN OSBORNE': 1519, 'SOUTH VERSAILLES': 1473, 'SEWICKLEY HEIGHTS': 1373, 'ROSSLYN FARMS': 1293, 'SEWICKLEY HILLS': 1281, 'PENNSBURY VILLAGE': 1212, 'THORNBURG': 936, 'GLENFIELD': 918, nan: 660, 'BEN AVON HEIGHTS': 573, 'HAYSVILLE': 377, 'WASHINGTON COUNTY': 35, 'WESTMORELAND COUNTY': 13, 'BEAVER COUNTY': 7, 'MCDONALD': 7, 'BUTLER COUNTY': 3}\n"
     ]
    }
   ],
   "source": [
    "from math import isnan\n",
    "import pandas as pd\n",
    "data = pd.read_csv('PoliceCalls.csv')\n",
    "\n",
    "neighborhoods = {}\n",
    "\n",
    "#collecting number of dispatches per neigborhood\n",
    "#\n",
    "for index,row in data.iterrows():\n",
    "    name = row[\"city_name\"]\n",
    "    priority = row[\"priority\"]\n",
    "    for char in priority:\n",
    "        if char.isdigit():\n",
    "            priority2 = 5-(int(char))\n",
    "            #since 5 is the prioritized as the least and 0 the most, the inverse of the priority number from 5 is added to each town in the dictionary\n",
    "    if name in neighborhoods:\n",
    "        neighborhoods[name] += priority2\n",
    "    else:\n",
    "        neighborhoods[name] = priority2\n",
    "    \n",
    "#sort dictionaries from greatest to least\n",
    "sorted_dict = dict(sorted(neighborhoods.items(), key=lambda item: item[1], reverse=True))\n",
    "\n",
    "fsort = {}\n",
    "for neighborhoods in sorted_dict:\n",
    "    \n",
    "\n",
    "print(sorted_dict)\n",
    "\n",
    "\n"
   ]
  },
  {
   "cell_type": "code",
   "execution_count": null,
   "id": "59582dde-01ba-4a68-9789-e9200555f9a7",
   "metadata": {},
   "outputs": [],
   "source": []
  }
 ],
 "metadata": {
  "kernelspec": {
   "display_name": "Python 3 (ipykernel)",
   "language": "python",
   "name": "python3"
  },
  "language_info": {
   "codemirror_mode": {
    "name": "ipython",
    "version": 3
   },
   "file_extension": ".py",
   "mimetype": "text/x-python",
   "name": "python",
   "nbconvert_exporter": "python",
   "pygments_lexer": "ipython3",
   "version": "3.12.4"
  }
 },
 "nbformat": 4,
 "nbformat_minor": 5
}
