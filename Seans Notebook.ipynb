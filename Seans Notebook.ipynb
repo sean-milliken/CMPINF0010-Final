{
 "cells": [
  {
   "cell_type": "markdown",
   "id": "051a715a-71e3-48a6-9286-c23beebcd9dc",
   "metadata": {},
   "source": [
    "Seans Notebook\n",
    "\n",
    "Dataset - https://data.wprdc.org/dataset/neighborhoods-with-snap-data/resource/bce22c26-9d3e-4e3f-8405-a35c4b7765b6"
   ]
  },
  {
   "cell_type": "code",
   "execution_count": 24,
   "id": "a304314c-b4e2-4b2d-91e3-faf1cb6981c2",
   "metadata": {},
   "outputs": [
    {
     "ename": "ValueError",
     "evalue": "dictionary update sequence element #0 has length 16; 2 is required",
     "output_type": "error",
     "traceback": [
      "\u001b[1;31m---------------------------------------------------------------------------\u001b[0m",
      "\u001b[1;31mValueError\u001b[0m                                Traceback (most recent call last)",
      "Cell \u001b[1;32mIn[24], line 70\u001b[0m\n\u001b[0;32m     67\u001b[0m         top5[i] \u001b[38;5;241m=\u001b[39m bestNeighborhood[i]\n\u001b[0;32m     68\u001b[0m         count \u001b[38;5;241m+\u001b[39m\u001b[38;5;241m=\u001b[39m \u001b[38;5;241m1\u001b[39m\n\u001b[1;32m---> 70\u001b[0m reversedDict \u001b[38;5;241m=\u001b[39m \u001b[38;5;28mdict\u001b[39m(\u001b[38;5;28mreversed\u001b[39m(bestNeighborhood))\n\u001b[0;32m     72\u001b[0m count2 \u001b[38;5;241m=\u001b[39m \u001b[38;5;241m0\u001b[39m\n\u001b[0;32m     73\u001b[0m worst5 \u001b[38;5;241m=\u001b[39m {}\n",
      "\u001b[1;31mValueError\u001b[0m: dictionary update sequence element #0 has length 16; 2 is required"
     ]
    }
   ],
   "source": [
    "import pandas as pd\n",
    "snap = pd.read_csv('snapdata.csv')\n",
    "\n",
    "neighborhoodCrimes = {}\n",
    "neighborhoodReports = {}\n",
    "\n",
    "#Calculating the number of serious crimes committed in each neighborhood using the SNAP data\n",
    "\n",
    "for index,row in snap.iterrows():\n",
    "    name = row[\"Neighborhood_2010_HOOD\"]\n",
    "    murders = row[\"SNAP_All_csv__Murder__2010_\"]\n",
    "    rape = row[\"SNAP_All_csv__Rape__2010_\"]\n",
    "    robbery = row[\"SNAP_All_csv__Robbery__2010_\"]\n",
    "    aggAsslt = row[\"F_Agr__Assault__2010_\"]\n",
    "    burglary = row[\"SNAP_All_csv__Burglary__2010_\"]\n",
    "    autoTheft = row[\"SNAP_All_csv__Auto_Theft__2010_\"]\n",
    "\n",
    "#Crimes being calculated /\\\n",
    "    \n",
    "    crimes = murders + rape + robbery + aggAsslt + burglary + autoTheft\n",
    "    \n",
    "    if name in neighborhoodCrimes:\n",
    "        neighborhoodCrimes[name] += crimes\n",
    "    else:\n",
    "        neighborhoodCrimes[name] = crimes\n",
    "\n",
    "#Crimes being reported in each neighborhood\n",
    "    \n",
    "    policeReports = row[\"SNAP_All_csv__Part_1__Major_Cri\"]\n",
    "    policeReports2 = row[\"SNAP_All_csv__Part_2_Reports__2\"]\n",
    "    policeReports3 = row[\"SNAP_All_csv__Other_Police_Repo\"]\n",
    "    \n",
    "    totalReports = policeReports + policeReports2 + policeReports3\n",
    "\n",
    "    if name in neighborhoodReports:\n",
    "        neighborhoodReports[name] += totalReports\n",
    "    else:\n",
    "        neighborhoodReports[name] = totalReports\n",
    "\n",
    "#Combining the two datasets into one total incidents dictionary\n",
    "totalIncidents = {}\n",
    "for neighborhood in neighborhoodReports:\n",
    "    if neighborhood in totalIncidents:\n",
    "        totalIncidents[neighborhood] += neighborhoodReports[neighborhood] + neighborhoodCrimes[neighborhood]\n",
    "    else:\n",
    "        totalIncidents[neighborhood] = neighborhoodReports[neighborhood] + neighborhoodCrimes[neighborhood]\n",
    "\n",
    "#Getting maximum number of crimes to use as a \"worst case\" so that we can compare neighborhoods\n",
    "worst = totalIncidents[max(totalIncidents, key=totalIncidents.get)]\n",
    "\n",
    "#Using our total incidents dictionary and worst neighborhood variable to put each neighborhood on a scale, with 0 being the least incidents and 100 being the most\n",
    "bestNeighborhood = {}\n",
    "for neighborhood in totalIncidents:\n",
    "    if neighborhood not in bestNeighborhood:\n",
    "        val = round((totalIncidents[neighborhood]) / worst * 100, 2)\n",
    "        bestNeighborhood[neighborhood] = val\n",
    "\n",
    "#Sorting from least crime to most\n",
    "bestNeighborhood = dict(sorted(bestNeighborhood.items(), key=lambda item: item[1]))\n",
    "#for i in bestNeighborhood:\n",
    "#    print(i,\"-\",bestNeighborhood[i])\n",
    "\n",
    "count = 0\n",
    "top5 = {}\n",
    "for i in bestNeighborhood:\n",
    "    if i not in top5 and count !=5:\n",
    "        top5[i] = bestNeighborhood[i]\n",
    "        count += 1\n",
    "        \n",
    "reversedDict = dict(reversed(bestNeighborhood))\n",
    "\n",
    "count2 = 0\n",
    "worst5 = {}\n",
    "for i in reversedDict:\n",
    "    if i not in worst5 and count != 5:\n",
    "        worst5[i] = reversedDict[i]\n",
    "        count2 += 1\n",
    "\n",
    "print(top5)\n",
    "print(worst5)"
   ]
  },
  {
   "cell_type": "code",
   "execution_count": null,
   "id": "0ed5e82c-298c-400a-9c26-0ce8b5c6a803",
   "metadata": {},
   "outputs": [],
   "source": []
  }
 ],
 "metadata": {
  "kernelspec": {
   "display_name": "Python 3 (ipykernel)",
   "language": "python",
   "name": "python3"
  },
  "language_info": {
   "codemirror_mode": {
    "name": "ipython",
    "version": 3
   },
   "file_extension": ".py",
   "mimetype": "text/x-python",
   "name": "python",
   "nbconvert_exporter": "python",
   "pygments_lexer": "ipython3",
   "version": "3.12.4"
  }
 },
 "nbformat": 4,
 "nbformat_minor": 5
}
