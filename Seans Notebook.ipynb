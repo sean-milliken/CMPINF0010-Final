{
 "cells": [
  {
   "cell_type": "markdown",
   "id": "051a715a-71e3-48a6-9286-c23beebcd9dc",
   "metadata": {},
   "source": [
    "Seans Notebook\n",
    "\n",
    "Dataset - https://data.wprdc.org/dataset/neighborhoods-with-snap-data/resource/bce22c26-9d3e-4e3f-8405-a35c4b7765b6"
   ]
  },
  {
   "cell_type": "code",
   "execution_count": 10,
   "id": "a304314c-b4e2-4b2d-91e3-faf1cb6981c2",
   "metadata": {},
   "outputs": [
    {
     "name": "stdout",
     "output_type": "stream",
     "text": [
      "{'Central Oakland': 539, 'North Oakland': 478, 'West Oakland': 227, 'Crawford-Roberts': 428, 'Strip District': 464, 'Central Business District': 1741, 'Spring Hill-City View': 343, 'Perry South': 663, 'Summer Hill': 48, 'Northview Heights': 219, 'Perry North': 388, 'Westwood': 154, 'Beltzhoover': 299, 'Central Lawrenceville': 577, 'South Side Flats': 1976, 'Allentown': 571, 'South Side Slopes': 585, 'Bluff': 428, 'Fineview': 273, 'Hazelwood': 498, 'Lincoln-Lemington-Belmar': 422, 'East Hills': 314, 'South Oakland': 301, 'Mount Washington': 1144, 'Greenfield': 468, 'Squirrel Hill South': 731, 'Central Northside': 457, 'Spring Garden': 127, 'Troy Hill': 430, 'East Allegheny': 679, 'Stanton Heights': 222, 'Lower Lawrenceville': 313, 'Bloomfield': 1120, 'Carrick': 1347, 'Point Breeze': 256, 'Duquesne Heights': 149, 'Swisshelm Park': 54, 'Highland Park': 487, 'Garfield': 554, 'Manchester': 269, 'Upper Lawrenceville': 349, 'Beechview': 644, 'Brookline': 881, 'Morningside': 223, 'Larimer': 354, 'North Shore': 183, 'Bon Air': 119, 'Banksville': 204, 'Windgap': 109, 'Friendship': 169, 'Arlington': 182, 'St. Clair': 34, 'Mt. Oliver': 56, 'Sheraden': 790, 'South Shore': 147, 'Allegheny West': 118, 'Elliott': 367, 'Shadyside': 1216, 'Knoxville': 785, 'Allegheny Center': 258, 'Brighton Heights': 678, 'Crafton Heights': 307, 'Polish Hill': 113, 'Chateau': 88, 'Arlington Heights': 80, 'Squirrel Hill North': 378, 'Terrace Village': 530, 'Bedford Dwellings': 160, 'Regent Square': 64, 'Hays': 39, 'Point Breeze North': 210, 'Marshall-Shadeland': 655, 'Lincoln Place': 128, 'Overbrook': 263, 'Homewood South': 714, 'Homewood North': 523, 'Homewood West': 183, 'Oakwood': 51, 'East Liberty': 1236, 'East Carnegie': 31, 'New Homestead': 20, 'Upper Hill': 167, 'Middle Hill': 474, 'Esplen': 116, 'Fairywood': 18, 'Chartiers City': 44, 'Ridgemont': 36, 'West End': 143, 'California-Kirkbride': 227, 'Glen Hazel': 59}\n"
     ]
    }
   ],
   "source": [
    "import pandas as pd\n",
    "snap = pd.read_csv('snapdata.csv')\n",
    "\n",
    "neighborhoodCrimes = {}\n",
    "neighborhoodReports = {}\n",
    "\n",
    "#Calculating the number of serious crimes committed in each neighborhood using the SNAP data\n",
    "\n",
    "for index,row in snap.iterrows():\n",
    "    name = row[\"Neighborhood_2010_HOOD\"]\n",
    "    murders = row[\"SNAP_All_csv__Murder__2010_\"]\n",
    "    rape = row[\"SNAP_All_csv__Rape__2010_\"]\n",
    "    robbery = row[\"SNAP_All_csv__Robbery__2010_\"]\n",
    "    aggAsslt = row[\"F_Agr__Assault__2010_\"]\n",
    "    burglary = row[\"SNAP_All_csv__Burglary__2010_\"]\n",
    "    autoTheft = row[\"SNAP_All_csv__Auto_Theft__2010_\"]\n",
    "\n",
    "#Crimes being calculated /\\\n",
    "    \n",
    "    crimes = murders + rape + robbery + aggAsslt + burglary + autoTheft\n",
    "    \n",
    "    if name in neighborhoodCrimes:\n",
    "        neighborhoodCrimes[name] += crimes\n",
    "    else:\n",
    "        neighborhoodCrimes[name] = crimes\n",
    "\n",
    "#Crimes being reported in each neighborhood\n",
    "    \n",
    "    policeReports = row[\"SNAP_All_csv__Part_1__Major_Cri\"]\n",
    "    policeReports2 = row[\"SNAP_All_csv__Part_2_Reports__2\"]\n",
    "    policeReports3 = row[\"SNAP_All_csv__Other_Police_Repo\"]\n",
    "    \n",
    "    totalReports = policeReports + policeReports2 + policeReports3\n",
    "\n",
    "    if name in neighborhoodReports:\n",
    "        neighborhoodReports[name] += totalReports\n",
    "    else:\n",
    "        neighborhoodReports[name] = totalReports\n",
    "\n",
    "print(neighborhoodReports)"
   ]
  },
  {
   "cell_type": "code",
   "execution_count": null,
   "id": "6ce850e5-6e29-4c7a-bb2d-610e51951e30",
   "metadata": {},
   "outputs": [],
   "source": []
  }
 ],
 "metadata": {
  "kernelspec": {
   "display_name": "Python 3 (ipykernel)",
   "language": "python",
   "name": "python3"
  },
  "language_info": {
   "codemirror_mode": {
    "name": "ipython",
    "version": 3
   },
   "file_extension": ".py",
   "mimetype": "text/x-python",
   "name": "python",
   "nbconvert_exporter": "python",
   "pygments_lexer": "ipython3",
   "version": "3.12.4"
  }
 },
 "nbformat": 4,
 "nbformat_minor": 5
}
