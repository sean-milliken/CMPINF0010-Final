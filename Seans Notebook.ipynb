{
 "cells": [
  {
   "cell_type": "markdown",
   "id": "051a715a-71e3-48a6-9286-c23beebcd9dc",
   "metadata": {},
   "source": [
    "Seans Notebook\n",
    "\n",
    "Dataset - https://data.wprdc.org/dataset/neighborhoods-with-snap-data/resource/bce22c26-9d3e-4e3f-8405-a35c4b7765b6"
   ]
  },
  {
   "cell_type": "code",
   "execution_count": 3,
   "id": "a304314c-b4e2-4b2d-91e3-faf1cb6981c2",
   "metadata": {},
   "outputs": [
    {
     "name": "stdout",
     "output_type": "stream",
     "text": [
      "{'Fairywood': 99.15, 'New Homestead': 98.97, 'East Carnegie': 98.34, 'Ridgemont': 98.2, 'St. Clair': 98.11, 'Hays': 97.8, 'Chartiers City': 97.66, 'Summer Hill': 97.62, 'Oakwood': 97.44, 'Swisshelm Park': 97.3, 'Mt. Oliver': 97.08, 'Glen Hazel': 96.95, 'Regent Square': 96.68, 'Chateau': 95.91, 'Arlington Heights': 95.64, 'Windgap': 94.16, 'Bon Air': 94.07, 'Polish Hill': 93.98, 'Allegheny West': 93.76, 'Esplen': 93.71, 'Lincoln Place': 93.49, 'Spring Garden': 93.31, 'South Shore': 92.86, 'West End': 92.86, 'Duquesne Heights': 91.96, 'Westwood': 91.78, 'Bedford Dwellings': 91.69, 'Upper Hill': 91.15, 'North Shore': 90.93, 'Friendship': 90.84, 'Arlington': 90.21, 'Homewood West': 90.16, 'Banksville': 89.89, 'Point Breeze North': 89.13, 'California-Kirkbride': 88.5, 'Northview Heights': 88.32, 'Stanton Heights': 88.23, 'Morningside': 88.19, 'West Oakland': 87.96, 'Allegheny Center': 87.11, 'Point Breeze': 86.61, 'Overbrook': 85.89, 'Manchester': 85.85, 'Fineview': 85.31, 'Beltzhoover': 84.19, 'Crafton Heights': 83.96, 'South Oakland': 83.69, 'Lower Lawrenceville': 83.15, 'East Hills': 82.97, 'Upper Lawrenceville': 81.76, 'Spring Hill-City View': 81.4, 'Elliott': 80.86, 'Squirrel Hill North': 80.5, 'Larimer': 79.78, 'Perry North': 79.34, 'Bluff': 78.48, 'Crawford-Roberts': 77.76, 'Lincoln-Lemington-Belmar': 77.22, 'Troy Hill': 76.73, 'Central Northside': 76.46, 'Strip District': 76.28, 'Greenfield': 75.7, 'Middle Hill': 75.65, 'North Oakland': 75.34, 'Highland Park': 75.07, 'Hazelwood': 73.14, 'Terrace Village': 70.98, 'Central Oakland': 70.75, 'Central Lawrenceville': 70.04, 'Garfield': 70.04, 'Homewood North': 69.99, 'Allentown': 69.9, 'South Side Slopes': 68.46, 'Beechview': 66.49, 'Marshall-Shadeland': 64.42, 'East Allegheny': 63.88, 'Perry South': 63.39, 'Brighton Heights': 63.25, 'Squirrel Hill South': 61.5, 'Homewood South': 60.24, 'Sheraden': 58.0, 'Knoxville': 57.41, 'Brookline': 55.62, 'Bloomfield': 41.87, 'Mount Washington': 39.58, 'Shadyside': 38.72, 'East Liberty': 34.14, 'Carrick': 28.44, 'Central Business District': 14.06, 'South Side Flats': 0.0}\n"
     ]
    }
   ],
   "source": [
    "import pandas as pd\n",
    "snap = pd.read_csv('snapdata.csv')\n",
    "\n",
    "neighborhoodCrimes = {}\n",
    "neighborhoodReports = {}\n",
    "\n",
    "#Calculating the number of serious crimes committed in each neighborhood using the SNAP data\n",
    "\n",
    "for index,row in snap.iterrows():\n",
    "    name = row[\"Neighborhood_2010_HOOD\"]\n",
    "    murders = row[\"SNAP_All_csv__Murder__2010_\"]\n",
    "    rape = row[\"SNAP_All_csv__Rape__2010_\"]\n",
    "    robbery = row[\"SNAP_All_csv__Robbery__2010_\"]\n",
    "    aggAsslt = row[\"F_Agr__Assault__2010_\"]\n",
    "    burglary = row[\"SNAP_All_csv__Burglary__2010_\"]\n",
    "    autoTheft = row[\"SNAP_All_csv__Auto_Theft__2010_\"]\n",
    "\n",
    "#Crimes being calculated /\\\n",
    "    \n",
    "    crimes = murders + rape + robbery + aggAsslt + burglary + autoTheft\n",
    "    \n",
    "    if name in neighborhoodCrimes:\n",
    "        neighborhoodCrimes[name] += crimes\n",
    "    else:\n",
    "        neighborhoodCrimes[name] = crimes\n",
    "\n",
    "#Crimes being reported in each neighborhood\n",
    "    \n",
    "    policeReports = row[\"SNAP_All_csv__Part_1__Major_Cri\"]\n",
    "    policeReports2 = row[\"SNAP_All_csv__Part_2_Reports__2\"]\n",
    "    policeReports3 = row[\"SNAP_All_csv__Other_Police_Repo\"]\n",
    "    \n",
    "    totalReports = policeReports + policeReports2 + policeReports3\n",
    "\n",
    "    if name in neighborhoodReports:\n",
    "        neighborhoodReports[name] += totalReports\n",
    "    else:\n",
    "        neighborhoodReports[name] = totalReports\n",
    "\n",
    "#Combining the two datasets into one total incidents dictionary\n",
    "totalIncidents = {}\n",
    "for neighborhood in neighborhoodReports:\n",
    "    if neighborhood in totalIncidents:\n",
    "        totalIncidents[neighborhood] += neighborhoodReports[neighborhood] + neighborhoodCrimes[neighborhood]\n",
    "    else:\n",
    "        totalIncidents[neighborhood] = neighborhoodReports[neighborhood] + neighborhoodCrimes[neighborhood]\n",
    "\n",
    "#Getting maximum number of crimes to use as a \"worst case\" so that we can compare neighborhoods\n",
    "worst = totalIncidents[max(totalIncidents, key=totalIncidents.get)]\n",
    "\n",
    "#Using our total incidents dictionary and worst neighborhood variable to put each neighborhood on a scale, with 0 being the least incidents and 100 being the most\n",
    "bestNeighborhood = {}\n",
    "for neighborhood in totalIncidents:\n",
    "    if neighborhood not in bestNeighborhood:\n",
    "        val = round((totalIncidents[neighborhood]) / worst * 100, 2)\n",
    "        bestNeighborhood[neighborhood] = val\n",
    "\n",
    "#Sorting from least crime to most\n",
    "bestNeighborhood = dict(sorted(bestNeighborhood.items(), key=lambda item: item[1]))\n",
    "\n",
    "scaled = {}\n",
    "for i in bestNeighborhood:\n",
    "    if i not in scaled:\n",
    "        val = round(100 - bestNeighborhood[i], 2)\n",
    "        scaled[i] = val \n",
    "\n",
    "print(scaled)"
   ]
  },
  {
   "cell_type": "markdown",
   "id": "a58976bb-ae88-4c4a-8bce-79ec8a262dde",
   "metadata": {},
   "source": [
    "Conclusion: The data driven \"best neighborhood\" for my metric was determined to be Fairywood. I personally don't really have a \"favorite\" neighborhood since I only just moved here, so my only experience in a neighborhood is in oakland."
   ]
  }
 ],
 "metadata": {
  "kernelspec": {
   "display_name": "Python 3 (ipykernel)",
   "language": "python",
   "name": "python3"
  },
  "language_info": {
   "codemirror_mode": {
    "name": "ipython",
    "version": 3
   },
   "file_extension": ".py",
   "mimetype": "text/x-python",
   "name": "python",
   "nbconvert_exporter": "python",
   "pygments_lexer": "ipython3",
   "version": "3.12.4"
  }
 },
 "nbformat": 4,
 "nbformat_minor": 5
}
