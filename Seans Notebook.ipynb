{
 "cells": [
  {
   "cell_type": "markdown",
   "id": "051a715a-71e3-48a6-9286-c23beebcd9dc",
   "metadata": {},
   "source": [
    "Seans Notebook\n",
    "\n",
    "Dataset - https://data.wprdc.org/dataset/neighborhoods-with-snap-data/resource/bce22c26-9d3e-4e3f-8405-a35c4b7765b6"
   ]
  },
  {
   "cell_type": "markdown",
   "id": "276a0e8f-d1eb-4ca1-84fc-f5844e2e47d0",
   "metadata": {},
   "source": [
    "import pandas as pd\n",
    "snap = pd.read_csv('snapdata.csv')\n",
    "\n",
    "neighborhoodCrimes = {}\n",
    "neighborhoodReports = {}\n",
    "\n",
    "#Calculating the number of serious crimes committed in each neighborhood using the SNAP data\n",
    "\n",
    "for index,row in snap.iterrows():\n",
    "    name = row[\"Neighborhood_2010_HOOD\"]\n",
    "    murders = row[\"SNAP_All_csv__Murder__2010_\"]\n",
    "    rape = row[\"SNAP_All_csv__Rape__2010_\"]\n",
    "    robbery = row[\"SNAP_All_csv__Robbery__2010_\"]\n",
    "    aggAsslt = row[\"F_Agr__Assault__2010_\"]\n",
    "    burglary = row[\"SNAP_All_csv__Burglary__2010_\"]\n",
    "    autoTheft = row[\"SNAP_All_csv__Auto_Theft__2010_\"]\n",
    "\n",
    "#Crimes being calculated /\\\n",
    "    \n",
    "    crimes = murders + rape + robbery + aggAsslt + burglary + autoTheft\n",
    "    \n",
    "    if name in neighborhoodCrimes:\n",
    "        neighborhoodCrimes[name] += crimes\n",
    "    else:\n",
    "        neighborhoodCrimes[name] = crimes\n",
    "\n",
    "#Crimes being reported in each neighborhood\n",
    "    \n",
    "    policeReports = row[\"SNAP_All_csv__Part_1__Major_Cri\"]\n",
    "    policeReports2 = row[\"SNAP_All_csv__Part_2_Reports__2\"]\n",
    "    policeReports3 = row[\"SNAP_All_csv__Other_Police_Repo\"]\n",
    "    \n",
    "    totalReports = policeReports + policeReports2 + policeReports3\n",
    "\n",
    "    if name in neighborhoodReports:\n",
    "        neighborhoodReports[name] += totalReports\n",
    "    else:\n",
    "        neighborhoodReports[name] = totalReports\n",
    "\n",
    "print(neighborhoodReports)"
   ]
  }
 ],
 "metadata": {
  "kernelspec": {
   "display_name": "Python 3 (ipykernel)",
   "language": "python",
   "name": "python3"
  },
  "language_info": {
   "codemirror_mode": {
    "name": "ipython",
    "version": 3
   },
   "file_extension": ".py",
   "mimetype": "text/x-python",
   "name": "python",
   "nbconvert_exporter": "python",
   "pygments_lexer": "ipython3",
   "version": "3.12.4"
  }
 },
 "nbformat": 4,
 "nbformat_minor": 5
}
