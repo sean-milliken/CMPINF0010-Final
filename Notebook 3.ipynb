{
 "cells": [
  {
   "cell_type": "markdown",
   "id": "6f788035-6fc2-459f-8caf-942a7d0f6c53",
   "metadata": {},
   "source": [
    "Dataset - https://data.wprdc.org/dataset/pbp-fire-arm-seizures/resource/e967381d-d7e9-48e3-a2a2-39262f7fa5c4"
   ]
  },
  {
   "cell_type": "code",
   "execution_count": 40,
   "id": "6b533dad-694d-4dbe-ae18-32c6c5309e61",
   "metadata": {},
   "outputs": [
    {
     "name": "stdout",
     "output_type": "stream",
     "text": [
      "{'Summer Hill': 99.13, 'Swisshelm Park': 99.13, 'Chartiers City': 98.84, 'Regent Square': 98.84, 'Oakwood': 98.84, 'Mt. Oliver': 98.84, 'Friendship': 98.55, 'West End': 98.26, 'St. Clair': 97.97, 'Hays': 97.68, 'Mount Oliver Borough': 97.39, 'Fairywood': 97.39, 'Westwood': 97.1, 'Arlington Heights': 97.1, 'Polish Hill': 97.1, 'Banksville': 97.1, 'Lincoln Place': 97.1, 'Esplen': 97.1, 'Spring Garden': 96.81, 'Bon Air': 96.52, 'South Shore': 96.23, 'West Oakland': 95.94, 'Squirrel Hill North': 95.94, 'Stanton Heights': 95.65, 'Windgap': 95.65, 'Lower Lawrenceville': 95.07, 'Allegheny West': 95.07, 'Glen Hazel': 95.07, 'Allegheny Center': 94.78, 'Point Breeze North': 94.49, 'Duquesne Heights': 94.49, 'Upper Lawrenceville': 94.2, 'Central Oakland': 94.2, 'North Shore': 94.2, 'North Oakland': 93.91, 'South Oakland': 93.62, 'Strip District': 93.04, 'Greenfield': 92.75, 'Chateau': 92.46, 'Central Lawrenceville': 92.17, 'Morningside': 91.88, 'Overbrook': 91.59, 'Shadyside': 91.59, 'Point Breeze': 91.3, 'California-Kirkbride': 90.43, 'Upper Hill': 89.28, 'Arlington': 88.41, 'South Side Slopes': 88.41, 'Troy Hill': 88.12, 'Highland Park': 87.83, 'Perry North': 87.25, 'Terrace Village': 86.96000000000001, 'Beltzhoover': 86.67, 'Squirrel Hill South': 86.38, 'Northview Heights': 83.77, 'Crawford-Roberts': 83.48, 'Elliott': 83.48, 'Bloomfield': 83.19, 'Bluff': 83.19, 'Homewood West': 82.32, 'East Allegheny': 82.03, 'Crafton Heights': 81.74, 'Manchester': 79.13, 'Fineview': 78.26, 'Spring Hill-City View': 77.68, 'Brookline': 77.1, 'Bedford Dwellings': 75.94, 'Central Northside': 75.94, 'Mount Washington': 73.91, 'Allentown': 73.62, 'Garfield': 72.46000000000001, 'Middle Hill': 72.17, 'Beechview': 70.72, 'Knoxville': 65.50999999999999, 'Sheraden': 64.93, 'Central Business District': 63.77, 'Larimer': 63.48, 'Perry South': 60.58, 'Lincoln-Lemington-Belmar': 60.58, 'East Hills': 60.29, 'Hazelwood': 58.26, 'East Liberty': 57.1, 'Marshall-Shadeland': 57.1, 'Carrick': 57.1, 'Brighton Heights': 56.81, 'Homewood North': 53.91, 'South Side Flats': 39.71, 'Homewood South': 0.0}\n"
     ]
    }
   ],
   "source": [
    "from math import isnan\n",
    "import pandas as pd\n",
    "seizures = pd.read_csv('firearm_seizures.csv')\n",
    "\n",
    "neighborhoods = {}\n",
    "\n",
    "#counting number of seizures per neighborhoods\n",
    "for index,row in seizures.iterrows():\n",
    "    name = row[\"neighborhood\"]\n",
    "    total = row[\"total_count\"]\n",
    "\n",
    "    if name in neighborhoods:\n",
    "        neighborhoods[name] += total\n",
    "    else:\n",
    "        neighborhoods[name] = total\n",
    "\n",
    "#removing the values that didn't have a neighborhood specified in the csv\n",
    "hoods = filter(lambda k: not pd.isna(k), neighborhoods)\n",
    "hoods = {k: neighborhoods[k] for k in neighborhoods if not pd.isna(k)}\n",
    "\n",
    "#finding the most seizures in a neighborhoods\n",
    "mostSeizures = hoods[max(hoods, key=hoods.get)]\n",
    "\n",
    "#sorting from least seizures to most\n",
    "sortedHoods = dict(sorted(hoods.items(), key=lambda item: item[1]))\n",
    "\n",
    "weights = {}\n",
    "for hood in sortedHoods:\n",
    "    if hood not in weights:\n",
    "        val = round((sortedHoods[hood]) / mostSeizures * 100, 2)\n",
    "        weights[hood] = val\n",
    "\n",
    "organized = {}\n",
    "for i in weights:\n",
    "    if i not in organized:\n",
    "        val = 100 - weights[i]\n",
    "        organized[i] = val\n",
    "print(organized)"
   ]
  },
  {
   "cell_type": "code",
   "execution_count": null,
   "id": "eba715bf-6666-4d2b-b20a-c511d0a3b4a0",
   "metadata": {},
   "outputs": [],
   "source": []
  }
 ],
 "metadata": {
  "kernelspec": {
   "display_name": "Python 3 (ipykernel)",
   "language": "python",
   "name": "python3"
  },
  "language_info": {
   "codemirror_mode": {
    "name": "ipython",
    "version": 3
   },
   "file_extension": ".py",
   "mimetype": "text/x-python",
   "name": "python",
   "nbconvert_exporter": "python",
   "pygments_lexer": "ipython3",
   "version": "3.12.4"
  }
 },
 "nbformat": 4,
 "nbformat_minor": 5
}
