{
 "cells": [
  {
   "cell_type": "markdown",
   "id": "ac424fa0-a877-4c5b-a937-9e10d3ddfbe3",
   "metadata": {},
   "source": [
    "https://data.wprdc.org/dataset/allegheny-county-911-dispatches-ems-and-fire/resource/ff33ca18-2e0c-4cb5-bdcd-60a5dc3c0418"
   ]
  },
  {
   "cell_type": "code",
   "execution_count": 259,
   "id": "a19b6a03-9665-412f-a135-5973e128544a",
   "metadata": {},
   "outputs": [
    {
     "name": "stdout",
     "output_type": "stream",
     "text": [
      "{'PITTSBURGH': 100.0, 'PENN HILLS': 11.384, 'MCKEESPORT': 9.664, 'WILKINSBURG': 7.349, 'ROSS': 7.175, 'MOUNT LEBANON': 6.654, 'MCCANDLESS': 6.107, 'WEST MIFFLIN': 5.824, 'BALDWIN BORO': 5.211, 'SCOTT': 4.718, 'PLUM': 4.282, 'SHALER': 4.041, 'ROBINSON': 3.975, 'WHITEHALL': 3.726, 'MCKEES ROCKS': 3.499, 'SOUTH FAYETTE': 3.469, 'NORTH VERSAILLES': 3.465, 'MUNHALL': 3.41, 'MOON': 3.33, 'NORTH FAYETTE': 2.98, 'CLAIRTON': 2.965, 'HARRISON': 2.837, 'STOWE': 2.63, 'SWISSVALE': 2.597, 'ELIZABETH TOWNSHIP': 2.59, 'DUQUESNE': 2.59, 'BRENTWOOD': 2.558, 'PLEASANT HILLS': 2.547, 'HAMPTON': 2.5, 'JEFFERSON HILLS': 2.422, 'HOMESTEAD': 2.395, 'BELLEVUE': 2.257, 'CARNEGIE': 2.255, \"O'HARA\": 2.237, 'WEST DEER': 2.21, 'NORTH BRADDOCK': 2.123, 'KENNEDY': 2.094, 'FINDLAY': 2.047, 'RICHLAND': 2.033, 'TURTLE CREEK': 2.006, 'WHITE OAK': 1.973, 'OAKMONT': 1.857, 'COLLIER': 1.777, 'CASTLE SHANNON': 1.748, 'WILKINS': 1.74, 'HARMAR': 1.72, 'TARENTUM': 1.717, 'PINE': 1.697, 'BRADDOCK': 1.555, 'INDIANA': 1.555, 'GLASSPORT': 1.547, 'FRANKLIN PARK': 1.53, 'AVALON': 1.506, 'DORMONT': 1.465, 'MOUNT OLIVER': 1.405, 'CRAFTON': 1.356, 'SHARPSBURG': 1.352, 'BRIDGEVILLE': 1.347, 'FOREST HILLS': 1.338, 'WEST VIEW': 1.275, 'GREEN TREE': 1.24, 'MARSHALL': 1.181, 'MILLVALE': 1.161, 'BRACKENRIDGE': 1.159, 'EAST PITTSBURGH': 1.152, 'CORAOPOLIS': 1.021, 'ETNA': 0.977, 'RANKIN': 0.948, 'WILMERDING': 0.913, 'BRADDOCK HILLS': 0.883, 'OHIO': 0.869, 'SPRINGDALE BORO': 0.837, 'WEST HOMESTEAD': 0.824, 'PORT VUE': 0.765, 'VERONA': 0.763, 'CHURCHILL': 0.746, 'BETHEL PARK': 0.711, 'SEWICKLEY': 0.688, 'FORWARD': 0.653, 'INGRAM': 0.627, 'EDGEWOOD': 0.609, 'VERSAILLES': 0.578, 'DRAVOSBURG': 0.541, 'EAST MCKEESPORT': 0.518, 'MONROEVILLE': 0.498, 'RESERVE': 0.479, 'ALEPPO': 0.476, 'FOX CHAPEL': 0.467, 'FRAZER': 0.445, 'BLAWNOX': 0.432, 'ELIZABETH BORO': 0.43, 'LIBERTY': 0.4, 'EAST DEER': 0.391, 'ASPINWALL': 0.371, 'SPRINGDALE TOWNSHIP': 0.368, 'PITCAIRN': 0.367, 'FAWN': 0.36, 'EMSWORTH': 0.358, 'WHITAKER': 0.348, 'CHESWICK': 0.34, 'NEVILLE': 0.318, 'LEET': 0.31, 'BALDWIN TOWNSHIP': 0.302, 'HEIDELBERG': 0.295, 'LEETSDALE': 0.293, 'UPPER ST CLAIR': 0.252, 'CRESCENT': 0.234, 'LINCOLN': 0.229, 'OAKDALE': 0.229, 'SOUTH PARK': 0.223, 'BEN AVON': 0.198, 'EDGEWORTH': 0.183, 'CHALFANT': 0.182, 'WALL': 0.148, 'WEST ELIZABETH': 0.138, 'BRADFORD WOODS': 0.122, 'BELL ACRES': 0.109, 'KILBUCK': 0.104, 'GLEN OSBORNE': 0.074, 'SOUTH VERSAILLES': 0.072, 'SEWICKLEY HEIGHTS': 0.067, 'ROSSLYN FARMS': 0.063, 'SEWICKLEY HILLS': 0.062, 'PENNSBURY VILLAGE': 0.059, 'THORNBURG': 0.046, 'GLENFIELD': 0.045, nan: 0.032, 'BEN AVON HEIGHTS': 0.028, 'HAYSVILLE': 0.018, 'WASHINGTON COUNTY': 0.002, 'WESTMORELAND COUNTY': 0.001, 'BEAVER COUNTY': 0.0, 'MCDONALD': 0.0, 'BUTLER COUNTY': 0.0}\n"
     ]
    }
   ],
   "source": [
    "from math import isnan\n",
    "import pandas as pd\n",
    "data = pd.read_csv('PoliceCalls.csv')\n",
    "\n",
    "neighborhoods = {}\n",
    "\n",
    "#collecting number of dispatches per neigborhood\n",
    "#\n",
    "for index,row in data.iterrows():\n",
    "    name = row[\"city_name\"]\n",
    "    priority = row[\"priority\"]\n",
    "    for char in priority:\n",
    "        if char.isdigit():\n",
    "            priority2 = 5-(int(char))\n",
    "            #since 5 is the prioritized as the least and 0 the most, the inverse of the priority number from 5 is added to each town in the dictionary\n",
    "    if name in neighborhoods:\n",
    "        neighborhoods[name] += priority2\n",
    "    else:\n",
    "        neighborhoods[name] = priority2\n",
    "    \n",
    "#sort dictionaries from greatest to least\n",
    "sorted_dict = dict(sorted(neighborhoods.items(), key=lambda item: item[1], reverse=True))\n",
    "\n",
    "final = {}\n",
    "\n",
    "\n",
    "scale = {}\n",
    "for key in sorted_dict:\n",
    "    if key not in scale:\n",
    "        fin = round((sorted_dict[key]/max(sorted_dict.values()))*100, 3)\n",
    "        scale[key] = fin\n",
    "#in theory, the \n",
    "print(scale)\n",
    "\n",
    "\n"
   ]
  },
  {
   "cell_type": "code",
   "execution_count": null,
   "id": "59582dde-01ba-4a68-9789-e9200555f9a7",
   "metadata": {},
   "outputs": [],
   "source": []
  }
 ],
 "metadata": {
  "kernelspec": {
   "display_name": "Python 3 (ipykernel)",
   "language": "python",
   "name": "python3"
  },
  "language_info": {
   "codemirror_mode": {
    "name": "ipython",
    "version": 3
   },
   "file_extension": ".py",
   "mimetype": "text/x-python",
   "name": "python",
   "nbconvert_exporter": "python",
   "pygments_lexer": "ipython3",
   "version": "3.12.4"
  }
 },
 "nbformat": 4,
 "nbformat_minor": 5
}
